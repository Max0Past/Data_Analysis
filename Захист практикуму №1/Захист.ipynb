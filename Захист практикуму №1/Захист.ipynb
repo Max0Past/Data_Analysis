{
 "cells": [
  {
   "cell_type": "code",
   "execution_count": null,
   "id": "10b128fd",
   "metadata": {},
   "outputs": [
    {
     "name": "stdout",
     "output_type": "stream",
     "text": [
      "arr1 = [1 5 3 7 2]\n",
      "Всі елементи додатні? True\n",
      "arr2 = [ 4 -2  6  1]\n",
      "Всі елементи додатні? False\n"
     ]
    }
   ],
   "source": [
    "import numpy as np\n",
    "\n",
    "# Масив тільки з додатніми\n",
    "arr1 = np.array([1, 5, 3, 7, 2])\n",
    "print(\"arr1 =\", arr1)\n",
    "print(\"Всі елементи додатні?\", np.all(arr1 > 0))  # True\n",
    "\n",
    "# Масив з від’ємним елементом\n",
    "arr2 = np.array([4, -2, 6, -1])\n",
    "print(\"arr2 =\", arr2)\n",
    "print(\"Всі елементи додатні?\", np.all(arr2 > 0))  # False\n"
   ]
  }
 ],
 "metadata": {
  "kernelspec": {
   "display_name": "base",
   "language": "python",
   "name": "python3"
  },
  "language_info": {
   "codemirror_mode": {
    "name": "ipython",
    "version": 3
   },
   "file_extension": ".py",
   "mimetype": "text/x-python",
   "name": "python",
   "nbconvert_exporter": "python",
   "pygments_lexer": "ipython3",
   "version": "3.13.5"
  }
 },
 "nbformat": 4,
 "nbformat_minor": 5
}
