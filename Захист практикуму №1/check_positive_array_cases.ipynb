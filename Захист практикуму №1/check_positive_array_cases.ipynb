{
 "cells": [
  {
   "cell_type": "markdown",
   "id": "e95477b7",
   "metadata": {},
   "source": [
    "# Перевірка елементів масиву на додатність\n",
    "\n",
    "Розглянемо кілька різних випадків."
   ]
  },
  {
   "cell_type": "markdown",
   "id": "9b487502",
   "metadata": {},
   "source": [
    "## Випадок 1: Масив із додатних чисел"
   ]
  },
  {
   "cell_type": "code",
   "execution_count": 1,
   "id": "67e0fdc6",
   "metadata": {},
   "outputs": [
    {
     "name": "stdout",
     "output_type": "stream",
     "text": [
      "Масив: [ 5  3  8  2  7 10]\n",
      "Результат перевірки: True\n",
      "Усі елементи масиву є додатними.\n"
     ]
    }
   ],
   "source": [
    "import numpy as np\n",
    "\n",
    "# Масив із додатних чисел\n",
    "array1 = np.array([5, 3, 8, 2, 7, 10])\n",
    "print('Масив:', array1)\n",
    "all_positive1 = np.all(array1 > 0)\n",
    "print('Результат перевірки:', all_positive1)\n",
    "if all_positive1:\n",
    "    print('Усі елементи масиву є додатними.')\n",
    "else:\n",
    "    print('У масиві є недодатні елементи.')"
   ]
  },
  {
   "cell_type": "markdown",
   "id": "ba5a8315",
   "metadata": {},
   "source": [
    "Усі числа більші за нуль, тому результат: **Усі елементи масиву є додатними.**"
   ]
  },
  {
   "cell_type": "markdown",
   "id": "6012556b",
   "metadata": {},
   "source": [
    "## Випадок 2: Масив із від’ємними числами"
   ]
  },
  {
   "cell_type": "code",
   "execution_count": 2,
   "id": "8f15ad45",
   "metadata": {},
   "outputs": [
    {
     "name": "stdout",
     "output_type": "stream",
     "text": [
      "Масив: [ 4 -2  7 -5  1]\n",
      "Результат перевірки: False\n",
      "У масиві є недодатні елементи.\n"
     ]
    }
   ],
   "source": [
    "# Масив з від’ємними числами\n",
    "array2 = np.array([4, -2, 7, -5, 1])\n",
    "print('Масив:', array2)\n",
    "all_positive2 = np.all(array2 > 0)\n",
    "print('Результат перевірки:', all_positive2)\n",
    "if all_positive2:\n",
    "    print('Усі елементи масиву є додатними.')\n",
    "else:\n",
    "    print('У масиві є недодатні елементи.')"
   ]
  },
  {
   "cell_type": "markdown",
   "id": "70be3938",
   "metadata": {},
   "source": [
    "Оскільки в масиві є від’ємні числа, програма повертає: **У масиві є недодатні елементи.**"
   ]
  },
  {
   "cell_type": "markdown",
   "id": "0c21cc68",
   "metadata": {},
   "source": [
    "## Випадок 3: Масив із нулями"
   ]
  },
  {
   "cell_type": "code",
   "execution_count": 3,
   "id": "358ac4a0",
   "metadata": {},
   "outputs": [
    {
     "name": "stdout",
     "output_type": "stream",
     "text": [
      "Масив: [0 2 5 0 7]\n",
      "Результат перевірки: False\n",
      "У масиві є недодатні елементи.\n"
     ]
    }
   ],
   "source": [
    "# Масив з нулями\n",
    "array3 = np.array([0, 2, 5, 0, 7])\n",
    "print('Масив:', array3)\n",
    "all_positive3 = np.all(array3 > 0)\n",
    "print('Результат перевірки:', all_positive3)\n",
    "if all_positive3:\n",
    "    print('Усі елементи масиву є додатними.')\n",
    "else:\n",
    "    print('У масиві є недодатні елементи.')"
   ]
  },
  {
   "cell_type": "markdown",
   "id": "e90735ee",
   "metadata": {},
   "source": [
    "Оскільки в масиві є нулі, які не більші за нуль, програма повертає: **У масиві є недодатні елементи.**"
   ]
  },
  {
   "cell_type": "markdown",
   "id": "2279771c",
   "metadata": {},
   "source": [
    "### Загальний висновок\n",
    "Ми перевірили три різні сценарії:\n",
    "1. Масив лише з додатних чисел → результат `True`.\n",
    "2. Масив із від’ємними числами → результат `False`.\n",
    "3. Масив із нулями → результат `False`.\n",
    "\n",
    "Таким чином, програма коректно визначає, чи всі елементи масиву є додатними."
   ]
  }
 ],
 "metadata": {
  "kernelspec": {
   "display_name": "base",
   "language": "python",
   "name": "python3"
  },
  "language_info": {
   "codemirror_mode": {
    "name": "ipython",
    "version": 3
   },
   "file_extension": ".py",
   "mimetype": "text/x-python",
   "name": "python",
   "nbconvert_exporter": "python",
   "pygments_lexer": "ipython3",
   "version": "3.12.11"
  }
 },
 "nbformat": 4,
 "nbformat_minor": 5
}
