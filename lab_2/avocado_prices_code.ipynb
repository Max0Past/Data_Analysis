{
 "cells": [
  {
   "cell_type": "markdown",
   "id": "36929e94",
   "metadata": {},
   "source": [
    "<div align=\"center\">\n",
    "<h1 style=\"color:#1565c0; font-size:2.8em; font-weight:bold; margin-bottom:0.2em; margin-top:0.5em;\">Практична робота №2</h1>\n",
    "<h3 style=\"color:#1976d2; margin-top:0; font-weight:normal;\">Побудова та оцiнювання якостi\n",
    "моделей класифiкацiї та регресiї засобами бiблiотеки <b>Scikit-Learn Python</b></h3>\n",
    "<br>\n",
    "<br>\n",
    "<b>Варіант 12</b><br>\n",
    "<b>Автори:</b><br>\n",
    "Плахтій Злата, КА-32<br>\n",
    "Пастушенко Максим, КА-33<br>\n",
    "Романов Фелікс, КА-33\n",
    "</div>\n",
    "\n",
    "<b>Мета:</b> Метою роботи є побудова та оцiнювання якостi моделей:\n",
    "- дерев рiшень,\n",
    "- опорних векторiв,\n",
    "- логiстичної регресiї,\n",
    "- наївної баєсiвської моделi\n",
    "для класифiкацiї та регресiї засобами бiблiотеки Scikit-Learn Python.\n",
    "\n",
    "<b>Хід роботи:</b>\n",
    "\n",
    "\n",
    "<b>Завдання:</b><br>\n",
    "Побудувати моделi регресiї на основi методу опорних векторiв:<br><br>\n",
    "• Моделi нелiнiйної регресiї SVR(kernel=\"poly\") з полiномiальним ядром. <br>\n",
    "  Розглянути полiноми рiзного ступеня degree та рiзнi комбiнацiї гiперпараметрiв epsilon i C, наприклад: epsilon=0.1 i C=0.01; epsilon=0.1 i C=100.<br><br>\n",
    "• Настроїти гiперпараметри epsilon i C, використовуючи решітчастий пошук.<br><br>\n",
    "Початковi данi:<br>\n",
    "(б) [avocado_prices.csv](https://www.kaggle.com/datasets/neuromusic/avocado-prices)"
   ]
  },
  {
   "cell_type": "markdown",
   "id": "bcfc9c13",
   "metadata": {},
   "source": [
    "task1"
   ]
  }
 ],
 "metadata": {
  "language_info": {
   "name": "python"
  }
 },
 "nbformat": 4,
 "nbformat_minor": 5
}
